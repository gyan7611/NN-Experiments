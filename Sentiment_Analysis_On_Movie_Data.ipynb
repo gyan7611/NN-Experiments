{
 "cells": [
  {
   "cell_type": "markdown",
   "metadata": {},
   "source": [
    "# Contents\n",
    "1. Building a feed forward NN to categorise movie reviews into positive and negative\n",
    "2. Understanding early stopping and why is it needed\n",
    "3. Dealing with Overfitting\n",
    "    1. Weight Regularization\n",
    "    2. Dropout Regularization"
   ]
  },
  {
   "cell_type": "code",
   "execution_count": null,
   "metadata": {},
   "outputs": [],
   "source": [
    "from keras.datasets import imdb"
   ]
  },
  {
   "cell_type": "code",
   "execution_count": 2,
   "metadata": {
    "collapsed": true
   },
   "outputs": [],
   "source": [
    "(train_data , train_labels) , (test_data , test_labels) = imdb.load_data(num_words=10000)"
   ]
  },
  {
   "cell_type": "code",
   "execution_count": 3,
   "metadata": {
    "collapsed": true
   },
   "outputs": [],
   "source": [
    "word_index = imdb.get_word_index()"
   ]
  },
  {
   "cell_type": "code",
   "execution_count": 4,
   "metadata": {
    "collapsed": true
   },
   "outputs": [],
   "source": [
    "import numpy as np\n",
    "def vectorize_sequences(sequences, dimension=10000):\n",
    "    results = np.zeros((len(sequences), dimension))\n",
    "    for i, sequence in enumerate(sequences):\n",
    "        results[i, sequence] = 1\n",
    "    return results\n",
    "x_train = vectorize_sequences(train_data)\n",
    "x_test = vectorize_sequences(test_data)"
   ]
  },
  {
   "cell_type": "code",
   "execution_count": 5,
   "metadata": {
    "collapsed": true
   },
   "outputs": [],
   "source": [
    "y_train = np.asarray(train_labels).astype('float32')\n",
    "y_test = np.asarray(test_labels).astype('float32')"
   ]
  },
  {
   "cell_type": "code",
   "execution_count": 6,
   "metadata": {},
   "outputs": [
    {
     "name": "stdout",
     "output_type": "stream",
     "text": [
      "Train on 20000 samples, validate on 5000 samples\n",
      "Epoch 1/20\n",
      "20000/20000 [==============================] - 2s 122us/step - loss: 0.4726 - acc: 0.8065 - val_loss: 0.3671 - val_acc: 0.8576\n",
      "Epoch 2/20\n",
      "20000/20000 [==============================] - 2s 102us/step - loss: 0.2718 - acc: 0.9059 - val_loss: 0.2939 - val_acc: 0.8864\n",
      "Epoch 3/20\n",
      "20000/20000 [==============================] - 2s 108us/step - loss: 0.2025 - acc: 0.9306 - val_loss: 0.2697 - val_acc: 0.8916\n",
      "Epoch 4/20\n",
      "20000/20000 [==============================] - 2s 104us/step - loss: 0.1668 - acc: 0.9412 - val_loss: 0.2804 - val_acc: 0.8904\n",
      "Epoch 5/20\n",
      "20000/20000 [==============================] - 2s 106us/step - loss: 0.1407 - acc: 0.9516 - val_loss: 0.2834 - val_acc: 0.8898\n",
      "Epoch 6/20\n",
      "20000/20000 [==============================] - 2s 114us/step - loss: 0.1189 - acc: 0.9593 - val_loss: 0.3088 - val_acc: 0.8862\n",
      "Epoch 7/20\n",
      "20000/20000 [==============================] - 2s 118us/step - loss: 0.1058 - acc: 0.9648 - val_loss: 0.3275 - val_acc: 0.8832\n",
      "Epoch 8/20\n",
      "20000/20000 [==============================] - 2s 110us/step - loss: 0.0855 - acc: 0.9730 - val_loss: 0.4071 - val_acc: 0.8666\n",
      "Epoch 9/20\n",
      "20000/20000 [==============================] - 2s 100us/step - loss: 0.0771 - acc: 0.9755 - val_loss: 0.4581 - val_acc: 0.8616\n",
      "Epoch 10/20\n",
      "20000/20000 [==============================] - 2s 98us/step - loss: 0.0670 - acc: 0.9796 - val_loss: 0.4303 - val_acc: 0.8718\n",
      "Epoch 11/20\n",
      "20000/20000 [==============================] - 2s 97us/step - loss: 0.0574 - acc: 0.9829 - val_loss: 0.4232 - val_acc: 0.8744\n",
      "Epoch 12/20\n",
      "20000/20000 [==============================] - 2s 104us/step - loss: 0.0484 - acc: 0.9860 - val_loss: 0.5674 - val_acc: 0.8562\n",
      "Epoch 13/20\n",
      "20000/20000 [==============================] - 2s 105us/step - loss: 0.0412 - acc: 0.9892 - val_loss: 0.5289 - val_acc: 0.8656\n",
      "Epoch 14/20\n",
      "20000/20000 [==============================] - 2s 98us/step - loss: 0.0373 - acc: 0.9888 - val_loss: 0.5191 - val_acc: 0.8708\n",
      "Epoch 15/20\n",
      "20000/20000 [==============================] - 2s 97us/step - loss: 0.0287 - acc: 0.9928 - val_loss: 0.5851 - val_acc: 0.8644\n",
      "Epoch 16/20\n",
      "20000/20000 [==============================] - 2s 98us/step - loss: 0.0290 - acc: 0.9922 - val_loss: 0.5844 - val_acc: 0.8670\n",
      "Epoch 17/20\n",
      "20000/20000 [==============================] - 2s 100us/step - loss: 0.0217 - acc: 0.9945 - val_loss: 0.6172 - val_acc: 0.8654\n",
      "Epoch 18/20\n",
      "20000/20000 [==============================] - 2s 98us/step - loss: 0.0171 - acc: 0.9970 - val_loss: 0.6509 - val_acc: 0.8636\n",
      "Epoch 19/20\n",
      "20000/20000 [==============================] - 2s 98us/step - loss: 0.0149 - acc: 0.9970 - val_loss: 0.7018 - val_acc: 0.8632\n",
      "Epoch 20/20\n",
      "20000/20000 [==============================] - 2s 103us/step - loss: 0.0142 - acc: 0.9968 - val_loss: 0.7175 - val_acc: 0.8618\n"
     ]
    }
   ],
   "source": [
    "from keras import models\n",
    "from keras import layers\n",
    "\n",
    "model = models.Sequential()\n",
    "model.add(layers.Dense(16 , activation = 'relu' , input_shape=(10000,)))\n",
    "model.add(layers.Dense(16 , activation='relu'))\n",
    "model.add(layers.Dense(1 , activation='sigmoid'))\n",
    "\n",
    "model.compile(optimizer='rmsprop',\n",
    "              loss = 'binary_crossentropy',\n",
    "              metrics = ['accuracy'])\n",
    "\n",
    "\n",
    "x_val = x_train[:5000]\n",
    "partial_x_train = x_train[5000:]\n",
    "y_val = y_train[:5000]\n",
    "partial_y_train = y_train[5000:]\n",
    "\n",
    "\n",
    "\n",
    "history = model.fit(partial_x_train,\n",
    "                    partial_y_train,\n",
    "                    epochs=20,\n",
    "                    batch_size=512,\n",
    "                    validation_data=(x_val, y_val))"
   ]
  },
  {
   "cell_type": "code",
   "execution_count": 7,
   "metadata": {},
   "outputs": [
    {
     "data": {
      "image/png": "[encoded data removed]",
      "text/plain": [
       "<matplotlib.figure.Figure at 0x24825c68160>"
      ]
     },
     "metadata": {},
     "output_type": "display_data"
    }
   ],
   "source": [
    "import matplotlib.pyplot as plt\n",
    "history_dict = history.history\n",
    "loss_values = history_dict['loss']\n",
    "val_loss_values = history_dict['val_loss']\n",
    "epochs = range(1, len(history_dict['acc']) + 1)\n",
    "plt.plot(epochs, loss_values, 'go', label='Training loss')\n",
    "plt.plot(epochs, val_loss_values, 'b', label='Validation loss')\n",
    "plt.title('Training and validation loss')\n",
    "plt.xlabel('Epochs')\n",
    "plt.ylabel('Loss')\n",
    "plt.legend()\n",
    "plt.show()"
   ]
  },
  {
   "cell_type": "markdown",
   "metadata": {},
   "source": [
    "From the above plot , we can clearly see that the models starts overfitting after around epoch 4"
   ]
  },
  {
   "cell_type": "code",
   "execution_count": 8,
   "metadata": {},
   "outputs": [
    {
     "data": {
      "image/png": "[encoded data removed]",
      "text/plain": [
       "<matplotlib.figure.Figure at 0x24825c684e0>"
      ]
     },
     "metadata": {},
     "output_type": "display_data"
    }
   ],
   "source": [
    "acc_values = history_dict['acc']\n",
    "val_acc_values = history_dict['val_acc']\n",
    "plt.plot(epochs, acc_values, 'bo', label='Training acc')\n",
    "plt.plot(epochs, val_acc_values, 'b', label='Validation acc')\n",
    "plt.title('Training and validation accuracy')\n",
    "plt.xlabel('Epochs')\n",
    "plt.ylabel('Loss')\n",
    "plt.legend()\n",
    "plt.show()"
   ]
  },
  {
   "cell_type": "markdown",
   "metadata": {},
   "source": [
    "Same pattern can be seen on the validation accuracy . Although the training accuracy keeps on increasing , the validation accuracy becomes non-increasing around epoch 4 and then continues to jump between increasing and decreasing\n",
    "\n",
    "# Early Stopping\n",
    "How about we stop the model when the improvement stops and use the model at that point as our final model.\n",
    "Let's train the network till epoch 4 only."
   ]
  },
  {
   "cell_type": "code",
   "execution_count": 9,
   "metadata": {},
   "outputs": [
    {
     "name": "stdout",
     "output_type": "stream",
     "text": [
      "Epoch 1/4\n",
      "25000/25000 [==============================] - 2s 90us/step - loss: 0.4355 - acc: 0.8288\n",
      "Epoch 2/4\n",
      "25000/25000 [==============================] - 2s 89us/step - loss: 0.2529 - acc: 0.9118\n",
      "Epoch 3/4\n",
      "25000/25000 [==============================] - 2s 91us/step - loss: 0.1964 - acc: 0.9282\n",
      "Epoch 4/4\n",
      "25000/25000 [==============================] - 2s 92us/step - loss: 0.1629 - acc: 0.9408\n"
     ]
    },
    {
     "data": {
      "text/plain": [
       "<keras.callbacks.History at 0x2481894ec18>"
      ]
     },
     "execution_count": 9,
     "metadata": {},
     "output_type": "execute_result"
    }
   ],
   "source": [
    "model = models.Sequential()\n",
    "model.add(layers.Dense(16, activation='relu', input_shape=(10000,)))\n",
    "model.add(layers.Dense(16, activation='relu'))\n",
    "model.add(layers.Dense(1, activation='sigmoid'))\n",
    "model.compile(optimizer='rmsprop',\n",
    "loss='binary_crossentropy',\n",
    "metrics=['accuracy'])\n",
    "model.fit(x_train, \n",
    "          y_train, \n",
    "          epochs=4, \n",
    "          batch_size=512)"
   ]
  },
  {
   "cell_type": "code",
   "execution_count": 10,
   "metadata": {},
   "outputs": [
    {
     "name": "stdout",
     "output_type": "stream",
     "text": [
      "25000/25000 [==============================] - 2s 94us/step\n"
     ]
    },
    {
     "data": {
      "text/plain": [
       "[0.29529120992660524, 0.88288]"
      ]
     },
     "execution_count": 10,
     "metadata": {},
     "output_type": "execute_result"
    }
   ],
   "source": [
    "model.evaluate(x_test,y_test)"
   ]
  },
  {
   "cell_type": "markdown",
   "metadata": {
    "collapsed": true
   },
   "source": [
    "# Effect of Adding a Regularizer"
   ]
  },
  {
   "cell_type": "code",
   "execution_count": 12,
   "metadata": {},
   "outputs": [
    {
     "name": "stdout",
     "output_type": "stream",
     "text": [
      "Train on 20000 samples, validate on 5000 samples\n",
      "Epoch 1/50\n",
      "20000/20000 [==============================] - 2s 116us/step - loss: 0.4895 - acc: 0.7954 - val_loss: 0.3775 - val_acc: 0.8460\n",
      "Epoch 2/50\n",
      "20000/20000 [==============================] - 2s 109us/step - loss: 0.2795 - acc: 0.9090 - val_loss: 0.2873 - val_acc: 0.8850\n",
      "Epoch 3/50\n",
      "20000/20000 [==============================] - 2s 104us/step - loss: 0.2117 - acc: 0.9270 - val_loss: 0.2690 - val_acc: 0.8938\n",
      "Epoch 4/50\n",
      "20000/20000 [==============================] - 2s 105us/step - loss: 0.1731 - acc: 0.9394 - val_loss: 0.3312 - val_acc: 0.8678\n",
      "Epoch 5/50\n",
      "20000/20000 [==============================] - 2s 104us/step - loss: 0.1463 - acc: 0.9513 - val_loss: 0.2810 - val_acc: 0.8922\n",
      "Epoch 6/50\n",
      "20000/20000 [==============================] - 2s 107us/step - loss: 0.1270 - acc: 0.9583 - val_loss: 0.2923 - val_acc: 0.8914\n",
      "Epoch 7/50\n",
      "20000/20000 [==============================] - 2s 103us/step - loss: 0.1089 - acc: 0.9641 - val_loss: 0.3176 - val_acc: 0.8848\n",
      "Epoch 8/50\n",
      "20000/20000 [==============================] - 2s 104us/step - loss: 0.0949 - acc: 0.9694 - val_loss: 0.3340 - val_acc: 0.8838\n",
      "Epoch 9/50\n",
      "20000/20000 [==============================] - 2s 104us/step - loss: 0.0833 - acc: 0.9745 - val_loss: 0.3502 - val_acc: 0.8866\n",
      "Epoch 10/50\n",
      "20000/20000 [==============================] - 2s 105us/step - loss: 0.0713 - acc: 0.9767 - val_loss: 0.3781 - val_acc: 0.8786\n",
      "Epoch 11/50\n",
      "20000/20000 [==============================] - 2s 103us/step - loss: 0.0618 - acc: 0.9817 - val_loss: 0.4215 - val_acc: 0.8776\n",
      "Epoch 12/50\n",
      "20000/20000 [==============================] - 2s 103us/step - loss: 0.0547 - acc: 0.9849 - val_loss: 0.4650 - val_acc: 0.8656\n",
      "Epoch 13/50\n",
      "20000/20000 [==============================] - 2s 105us/step - loss: 0.0447 - acc: 0.9882 - val_loss: 0.4959 - val_acc: 0.8644\n",
      "Epoch 14/50\n",
      "20000/20000 [==============================] - 2s 102us/step - loss: 0.0408 - acc: 0.9898 - val_loss: 0.4860 - val_acc: 0.8718\n",
      "Epoch 15/50\n",
      "20000/20000 [==============================] - 2s 107us/step - loss: 0.0331 - acc: 0.9915 - val_loss: 0.5811 - val_acc: 0.8574\n",
      "Epoch 16/50\n",
      "20000/20000 [==============================] - 2s 106us/step - loss: 0.0277 - acc: 0.9940 - val_loss: 0.5544 - val_acc: 0.8698\n",
      "Epoch 17/50\n",
      "20000/20000 [==============================] - 2s 108us/step - loss: 0.0243 - acc: 0.9942 - val_loss: 0.5767 - val_acc: 0.8648\n",
      "Epoch 18/50\n",
      "20000/20000 [==============================] - 2s 103us/step - loss: 0.0210 - acc: 0.9957 - val_loss: 0.6091 - val_acc: 0.8658\n",
      "Epoch 19/50\n",
      "20000/20000 [==============================] - 2s 103us/step - loss: 0.0154 - acc: 0.9974 - val_loss: 0.6441 - val_acc: 0.8664\n",
      "Epoch 20/50\n",
      "20000/20000 [==============================] - 2s 102us/step - loss: 0.0119 - acc: 0.9982 - val_loss: 0.7123 - val_acc: 0.8592\n",
      "Epoch 21/50\n",
      "20000/20000 [==============================] - 2s 102us/step - loss: 0.0109 - acc: 0.9981 - val_loss: 0.7431 - val_acc: 0.8584\n",
      "Epoch 22/50\n",
      "20000/20000 [==============================] - 2s 104us/step - loss: 0.0100 - acc: 0.9978 - val_loss: 0.7418 - val_acc: 0.8636\n",
      "Epoch 23/50\n",
      "20000/20000 [==============================] - 2s 103us/step - loss: 0.0089 - acc: 0.9981 - val_loss: 0.7688 - val_acc: 0.8642\n",
      "Epoch 24/50\n",
      "20000/20000 [==============================] - 2s 104us/step - loss: 0.0051 - acc: 0.9994 - val_loss: 0.7993 - val_acc: 0.8606\n",
      "Epoch 25/50\n",
      "20000/20000 [==============================] - 2s 103us/step - loss: 0.0032 - acc: 0.9999 - val_loss: 0.8360 - val_acc: 0.8586\n",
      "Epoch 26/50\n",
      "20000/20000 [==============================] - 2s 107us/step - loss: 0.0056 - acc: 0.9987 - val_loss: 0.8577 - val_acc: 0.8594\n",
      "Epoch 27/50\n",
      "20000/20000 [==============================] - 2s 105us/step - loss: 0.0019 - acc: 1.0000 - val_loss: 0.8959 - val_acc: 0.8588\n",
      "Epoch 28/50\n",
      "20000/20000 [==============================] - 2s 106us/step - loss: 0.0053 - acc: 0.9985 - val_loss: 0.9076 - val_acc: 0.8600\n",
      "Epoch 29/50\n",
      "20000/20000 [==============================] - 2s 108us/step - loss: 0.0057 - acc: 0.9987 - val_loss: 1.0072 - val_acc: 0.8570\n",
      "Epoch 30/50\n",
      "20000/20000 [==============================] - 2s 105us/step - loss: 0.0012 - acc: 1.0000 - val_loss: 0.9530 - val_acc: 0.8594\n",
      "Epoch 31/50\n",
      "20000/20000 [==============================] - 2s 106us/step - loss: 0.0046 - acc: 0.9986 - val_loss: 0.9742 - val_acc: 0.8578\n",
      "Epoch 32/50\n",
      "20000/20000 [==============================] - 2s 106us/step - loss: 6.5018e-04 - acc: 1.0000 - val_loss: 0.9911 - val_acc: 0.8588\n",
      "Epoch 33/50\n",
      "20000/20000 [==============================] - 2s 106us/step - loss: 0.0033 - acc: 0.9992 - val_loss: 1.0284 - val_acc: 0.8588\n",
      "Epoch 34/50\n",
      "20000/20000 [==============================] - 2s 106us/step - loss: 4.2164e-04 - acc: 1.0000 - val_loss: 1.0457 - val_acc: 0.8586\n",
      "Epoch 35/50\n",
      "20000/20000 [==============================] - 2s 105us/step - loss: 0.0046 - acc: 0.9987 - val_loss: 1.0761 - val_acc: 0.8586\n",
      "Epoch 36/50\n",
      "20000/20000 [==============================] - 2s 104us/step - loss: 2.7132e-04 - acc: 1.0000 - val_loss: 1.0875 - val_acc: 0.8566\n",
      "Epoch 37/50\n",
      "20000/20000 [==============================] - 2s 104us/step - loss: 2.3013e-04 - acc: 1.0000 - val_loss: 1.1105 - val_acc: 0.8570\n",
      "Epoch 38/50\n",
      "20000/20000 [==============================] - 2s 105us/step - loss: 0.0014 - acc: 0.9996 - val_loss: 1.1302 - val_acc: 0.8578\n",
      "Epoch 39/50\n",
      "20000/20000 [==============================] - 2s 105us/step - loss: 1.6244e-04 - acc: 1.0000 - val_loss: 1.1483 - val_acc: 0.8566\n",
      "Epoch 40/50\n",
      "20000/20000 [==============================] - 2s 103us/step - loss: 0.0025 - acc: 0.9992 - val_loss: 1.1769 - val_acc: 0.8574\n",
      "Epoch 41/50\n",
      "20000/20000 [==============================] - 2s 104us/step - loss: 1.1244e-04 - acc: 1.0000 - val_loss: 1.1850 - val_acc: 0.8570\n",
      "Epoch 42/50\n",
      "20000/20000 [==============================] - 2s 103us/step - loss: 9.2666e-05 - acc: 1.0000 - val_loss: 1.2060 - val_acc: 0.8570\n",
      "Epoch 43/50\n",
      "20000/20000 [==============================] - 2s 102us/step - loss: 0.0024 - acc: 0.9991 - val_loss: 1.2408 - val_acc: 0.8574\n",
      "Epoch 44/50\n",
      "20000/20000 [==============================] - 2s 104us/step - loss: 5.2790e-05 - acc: 1.0000 - val_loss: 1.2494 - val_acc: 0.8572\n",
      "Epoch 45/50\n",
      "20000/20000 [==============================] - 2s 103us/step - loss: 4.5721e-05 - acc: 1.0000 - val_loss: 1.2610 - val_acc: 0.8558\n",
      "Epoch 46/50\n",
      "20000/20000 [==============================] - 2s 103us/step - loss: 0.0032 - acc: 0.9991 - val_loss: 1.2876 - val_acc: 0.8566\n",
      "Epoch 47/50\n",
      "20000/20000 [==============================] - 2s 102us/step - loss: 3.0827e-05 - acc: 1.0000 - val_loss: 1.2952 - val_acc: 0.8562\n",
      "Epoch 48/50\n",
      "20000/20000 [==============================] - 2s 104us/step - loss: 2.6031e-05 - acc: 1.0000 - val_loss: 1.3021 - val_acc: 0.8564\n",
      "Epoch 49/50\n",
      "20000/20000 [==============================] - 2s 102us/step - loss: 2.1953e-05 - acc: 1.0000 - val_loss: 1.3777 - val_acc: 0.8524\n",
      "Epoch 50/50\n",
      "20000/20000 [==============================] - 2s 102us/step - loss: 6.1489e-04 - acc: 0.9997 - val_loss: 1.3249 - val_acc: 0.8558\n"
     ]
    }
   ],
   "source": [
    "from keras import models\n",
    "from keras import layers\n",
    "from keras import regularizers\n",
    "\n",
    "model = models.Sequential()\n",
    "model.add(layers.Dense(16 , activation = 'relu' , input_shape=(10000,)))\n",
    "model.add(layers.Dense(16 , activation='relu'))\n",
    "model.add(layers.Dense(1 , activation='sigmoid'))\n",
    "\n",
    "model.compile(optimizer='rmsprop',\n",
    "              loss = 'binary_crossentropy',\n",
    "              metrics = ['accuracy'])\n",
    "\n",
    "\n",
    "regularized_model = models.Sequential()\n",
    "regularized_model.add(layers.Dense(16 , kernel_regularizer = regularizers.l2(0.001) ,activation = 'relu' , input_shape=(10000,)))\n",
    "regularized_model.add(layers.Dropout(0.5))\n",
    "regularized_model.add(layers.Dense(16 , kernel_regularizer = regularizers.l2(0.001),activation='relu'))\n",
    "regularized_model.add(layers.Dropout(0.5))\n",
    "regularized_model.add(layers.Dense(1 , activation='sigmoid'))\n",
    "\n",
    "\n",
    "\n",
    "\n",
    "x_val = x_train[:5000]\n",
    "partial_x_train = x_train[5000:]\n",
    "y_val = y_train[:5000]\n",
    "partial_y_train = y_train[5000:]\n",
    "\n",
    "\n",
    "\n",
    "history = model.fit(partial_x_train,\n",
    "                    partial_y_train,\n",
    "                    epochs=50,\n",
    "                    batch_size=512,\n",
    "                    validation_data=(x_val, y_val))"
   ]
  },
  {
   "cell_type": "code",
   "execution_count": 13,
   "metadata": {},
   "outputs": [
    {
     "name": "stdout",
     "output_type": "stream",
     "text": [
      "Train on 20000 samples, validate on 5000 samples\n",
      "Epoch 1/50\n",
      "20000/20000 [==============================] - 2s 118us/step - loss: 0.6313 - acc: 0.6835 - val_loss: 0.4902 - val_acc: 0.8528\n",
      "Epoch 2/50\n",
      "20000/20000 [==============================] - 2s 106us/step - loss: 0.4893 - acc: 0.8104 - val_loss: 0.4046 - val_acc: 0.8638\n",
      "Epoch 3/50\n",
      "20000/20000 [==============================] - 2s 105us/step - loss: 0.4175 - acc: 0.8567 - val_loss: 0.3572 - val_acc: 0.8828\n",
      "Epoch 4/50\n",
      "20000/20000 [==============================] - 2s 104us/step - loss: 0.3698 - acc: 0.8855 - val_loss: 0.3619 - val_acc: 0.8662\n",
      "Epoch 5/50\n",
      "20000/20000 [==============================] - 2s 104us/step - loss: 0.3387 - acc: 0.9017 - val_loss: 0.3315 - val_acc: 0.8866\n",
      "Epoch 6/50\n",
      "20000/20000 [==============================] - 2s 107us/step - loss: 0.3189 - acc: 0.9134 - val_loss: 0.3288 - val_acc: 0.8886\n",
      "Epoch 7/50\n",
      "20000/20000 [==============================] - 2s 104us/step - loss: 0.2895 - acc: 0.9209 - val_loss: 0.3442 - val_acc: 0.8878\n",
      "Epoch 8/50\n",
      "20000/20000 [==============================] - 2s 105us/step - loss: 0.2806 - acc: 0.9258 - val_loss: 0.3348 - val_acc: 0.8920\n",
      "Epoch 9/50\n",
      "20000/20000 [==============================] - 2s 104us/step - loss: 0.2669 - acc: 0.9296 - val_loss: 0.3754 - val_acc: 0.8812\n",
      "Epoch 10/50\n",
      "20000/20000 [==============================] - 2s 108us/step - loss: 0.2607 - acc: 0.9341 - val_loss: 0.3597 - val_acc: 0.8936\n",
      "Epoch 11/50\n",
      "20000/20000 [==============================] - 2s 104us/step - loss: 0.2514 - acc: 0.9379 - val_loss: 0.3720 - val_acc: 0.8894\n",
      "Epoch 12/50\n",
      "20000/20000 [==============================] - 2s 110us/step - loss: 0.2449 - acc: 0.9402 - val_loss: 0.4029 - val_acc: 0.8856\n",
      "Epoch 13/50\n",
      "20000/20000 [==============================] - 2s 106us/step - loss: 0.2417 - acc: 0.9393 - val_loss: 0.3758 - val_acc: 0.8874\n",
      "Epoch 14/50\n",
      "20000/20000 [==============================] - 2s 101us/step - loss: 0.2345 - acc: 0.9446 - val_loss: 0.3843 - val_acc: 0.8836\n",
      "Epoch 15/50\n",
      "20000/20000 [==============================] - 2s 103us/step - loss: 0.2284 - acc: 0.9442 - val_loss: 0.3928 - val_acc: 0.8860\n",
      "Epoch 16/50\n",
      "20000/20000 [==============================] - 2s 101us/step - loss: 0.2221 - acc: 0.9458 - val_loss: 0.4368 - val_acc: 0.8762\n",
      "Epoch 17/50\n",
      "20000/20000 [==============================] - 2s 106us/step - loss: 0.2213 - acc: 0.9465 - val_loss: 0.4202 - val_acc: 0.8822\n",
      "Epoch 18/50\n",
      "20000/20000 [==============================] - 2s 100us/step - loss: 0.2203 - acc: 0.9450 - val_loss: 0.4138 - val_acc: 0.8846\n",
      "Epoch 19/50\n",
      "20000/20000 [==============================] - 2s 106us/step - loss: 0.2171 - acc: 0.9477 - val_loss: 0.4280 - val_acc: 0.8836\n",
      "Epoch 20/50\n",
      "20000/20000 [==============================] - 2s 101us/step - loss: 0.2192 - acc: 0.9476 - val_loss: 0.4199 - val_acc: 0.8796\n",
      "Epoch 21/50\n",
      "20000/20000 [==============================] - 2s 104us/step - loss: 0.2158 - acc: 0.9489 - val_loss: 0.4378 - val_acc: 0.8780\n",
      "Epoch 22/50\n",
      "20000/20000 [==============================] - 2s 102us/step - loss: 0.2116 - acc: 0.9499 - val_loss: 0.4516 - val_acc: 0.8832\n",
      "Epoch 23/50\n",
      "20000/20000 [==============================] - 2s 107us/step - loss: 0.2097 - acc: 0.9513 - val_loss: 0.4396 - val_acc: 0.8830\n",
      "Epoch 24/50\n",
      "20000/20000 [==============================] - 2s 102us/step - loss: 0.2095 - acc: 0.9516 - val_loss: 0.4391 - val_acc: 0.8820\n",
      "Epoch 25/50\n",
      "20000/20000 [==============================] - 2s 103us/step - loss: 0.2147 - acc: 0.9471 - val_loss: 0.4661 - val_acc: 0.8730\n",
      "Epoch 26/50\n",
      "20000/20000 [==============================] - 2s 107us/step - loss: 0.2088 - acc: 0.9522 - val_loss: 0.4499 - val_acc: 0.8810\n",
      "Epoch 27/50\n",
      "20000/20000 [==============================] - 2s 104us/step - loss: 0.2144 - acc: 0.9506 - val_loss: 0.4633 - val_acc: 0.8786\n",
      "Epoch 28/50\n",
      "20000/20000 [==============================] - 2s 109us/step - loss: 0.2104 - acc: 0.9493 - val_loss: 0.4681 - val_acc: 0.8826\n",
      "Epoch 29/50\n",
      "20000/20000 [==============================] - 2s 110us/step - loss: 0.2051 - acc: 0.9515 - val_loss: 0.4820 - val_acc: 0.8770\n",
      "Epoch 30/50\n",
      "20000/20000 [==============================] - 2s 106us/step - loss: 0.2085 - acc: 0.9524 - val_loss: 0.4450 - val_acc: 0.8808\n",
      "Epoch 31/50\n",
      "20000/20000 [==============================] - 2s 103us/step - loss: 0.2076 - acc: 0.9496 - val_loss: 0.4719 - val_acc: 0.8838\n",
      "Epoch 32/50\n",
      "20000/20000 [==============================] - 2s 107us/step - loss: 0.2124 - acc: 0.9497 - val_loss: 0.4503 - val_acc: 0.8808\n",
      "Epoch 33/50\n",
      "20000/20000 [==============================] - 2s 103us/step - loss: 0.2048 - acc: 0.9546 - val_loss: 0.4678 - val_acc: 0.8794\n",
      "Epoch 34/50\n",
      "20000/20000 [==============================] - 2s 104us/step - loss: 0.1999 - acc: 0.9554 - val_loss: 0.4657 - val_acc: 0.8806\n",
      "Epoch 35/50\n",
      "20000/20000 [==============================] - 2s 105us/step - loss: 0.2090 - acc: 0.9538 - val_loss: 0.4789 - val_acc: 0.8834\n",
      "Epoch 36/50\n",
      "20000/20000 [==============================] - 2s 104us/step - loss: 0.2068 - acc: 0.9513 - val_loss: 0.4876 - val_acc: 0.8764\n",
      "Epoch 37/50\n",
      "20000/20000 [==============================] - 2s 104us/step - loss: 0.2075 - acc: 0.9520 - val_loss: 0.4827 - val_acc: 0.8750\n",
      "Epoch 38/50\n",
      "20000/20000 [==============================] - 2s 105us/step - loss: 0.2080 - acc: 0.9521 - val_loss: 0.4990 - val_acc: 0.8784\n",
      "Epoch 39/50\n",
      "20000/20000 [==============================] - 2s 104us/step - loss: 0.2010 - acc: 0.9542 - val_loss: 0.5116 - val_acc: 0.8802\n",
      "Epoch 40/50\n",
      "20000/20000 [==============================] - 2s 104us/step - loss: 0.1982 - acc: 0.9552 - val_loss: 0.5118 - val_acc: 0.8720\n",
      "Epoch 41/50\n",
      "20000/20000 [==============================] - 2s 106us/step - loss: 0.2050 - acc: 0.9507 - val_loss: 0.5835 - val_acc: 0.8646\n",
      "Epoch 42/50\n",
      "20000/20000 [==============================] - 2s 105us/step - loss: 0.2103 - acc: 0.9519 - val_loss: 0.4981 - val_acc: 0.8776\n",
      "Epoch 43/50\n",
      "20000/20000 [==============================] - 2s 103us/step - loss: 0.2006 - acc: 0.9537 - val_loss: 0.4686 - val_acc: 0.8798\n",
      "Epoch 44/50\n",
      "20000/20000 [==============================] - 2s 104us/step - loss: 0.2023 - acc: 0.9552 - val_loss: 0.4798 - val_acc: 0.8776\n",
      "Epoch 45/50\n",
      "20000/20000 [==============================] - 2s 105us/step - loss: 0.2008 - acc: 0.9523 - val_loss: 0.4815 - val_acc: 0.8814\n",
      "Epoch 46/50\n",
      "20000/20000 [==============================] - 2s 104us/step - loss: 0.2015 - acc: 0.9546 - val_loss: 0.4837 - val_acc: 0.8754\n",
      "Epoch 47/50\n",
      "20000/20000 [==============================] - 2s 107us/step - loss: 0.2003 - acc: 0.9519 - val_loss: 0.4935 - val_acc: 0.8768\n",
      "Epoch 48/50\n",
      "20000/20000 [==============================] - 2s 105us/step - loss: 0.2059 - acc: 0.9509 - val_loss: 0.4934 - val_acc: 0.8808\n",
      "Epoch 49/50\n",
      "20000/20000 [==============================] - 2s 103us/step - loss: 0.1998 - acc: 0.9526 - val_loss: 0.4952 - val_acc: 0.8774\n",
      "Epoch 50/50\n",
      "20000/20000 [==============================] - 2s 104us/step - loss: 0.2014 - acc: 0.9521 - val_loss: 0.5040 - val_acc: 0.8774\n"
     ]
    }
   ],
   "source": [
    "regularized_model.compile(optimizer='rmsprop',\n",
    "              loss = 'binary_crossentropy',\n",
    "              metrics = ['accuracy'])\n",
    "\n",
    "history_regularized = regularized_model.fit(partial_x_train,\n",
    "                    partial_y_train,\n",
    "                    epochs=50,\n",
    "                    batch_size=512,\n",
    "                    validation_data=(x_val, y_val))"
   ]
  },
  {
   "cell_type": "code",
   "execution_count": null,
   "metadata": {},
   "outputs": [],
   "source": [
    "import matplotlib.pyplot as plt\n",
    "history_dict = history.history\n",
    "history_dict_regularized = history_regularized.history\n",
    "loss_values = history_dict['val_loss']\n",
    "loss_values_regularized = history_dict_regularized['val_loss']\n",
    "epochs = range(1, len(history_dict['acc']) + 1)\n",
    "plt.plot(epochs, loss_values, 'go', label='Validation loss of Simple Model')\n",
    "plt.plot(epochs, loss_values_regularized, 'b', label='Validation loss of Weight-Dropout Regularized Model')\n",
    "plt.title('Regularized vs Unregularized Validation Losses')\n",
    "plt.xlabel('Epochs')\n",
    "plt.ylabel('Loss')\n",
    "plt.legend()\n",
    "plt.show()"
   ]
  },
  {
   "cell_type": "markdown",
   "metadata": {
    "collapsed": true
   },
   "source": [
    "## Saving and Reusing models"
   ]
  },
  {
   "cell_type": "markdown",
   "metadata": {},
   "source": [
    "Wow , now that the regularized model looks good , we might want to save it so that the results can be reproduced.\n",
    "It is very simple to save your trained models . We need to load the model structure and also the corresponding weights for each layer in the model."
   ]
  },
  {
   "cell_type": "code",
   "execution_count": 15,
   "metadata": {},
   "outputs": [
    {
     "name": "stdout",
     "output_type": "stream",
     "text": [
      "Saved model to disk\n"
     ]
    }
   ],
   "source": [
    "model_json = regularized_model.to_json()\n",
    "with open(\"regularized_model.json\", \"w\") as json_file:\n",
    "    json_file.write(model_json)\n",
    "# serialize weights to HDF5\n",
    "model.save_weights(\"model.h5\")\n",
    "print(\"Saved model to disk\")"
   ]
  },
  {
   "cell_type": "code",
   "execution_count": 17,
   "metadata": {},
   "outputs": [
    {
     "name": "stdout",
     "output_type": "stream",
     "text": [
      "Loaded model from disk\n"
     ]
    }
   ],
   "source": [
    "from keras.models import model_from_json\n",
    "json_file = open('regularized_model.json', 'r')\n",
    "loaded_model_json = json_file.read()\n",
    "json_file.close()\n",
    "loaded_model = model_from_json(loaded_model_json)\n",
    "# load weights into new model\n",
    "loaded_model.load_weights(\"model.h5\")\n",
    "print(\"Loaded model from disk\")"
   ]
  },
  {
   "cell_type": "markdown",
   "metadata": {},
   "source": [
    "We have the model saved in the variable loaded_model now.\n",
    "\n",
    "It is important to compile the loaded model before it is used. This is so that predictions made using the model can use the appropriate efficient computation from the Keras backend."
   ]
  }
 ],
 "metadata": {
  "kernelspec": {
   "display_name": "Python 3",
   "language": "python",
   "name": "python3"
  },
  "language_info": {
   "codemirror_mode": {
    "name": "ipython",
    "version": 3
   },
   "file_extension": ".py",
   "mimetype": "text/x-python",
   "name": "python",
   "nbconvert_exporter": "python",
   "pygments_lexer": "ipython3",
   "version": "3.6.2"
  }
 },
 "nbformat": 4,
 "nbformat_minor": 2
}
