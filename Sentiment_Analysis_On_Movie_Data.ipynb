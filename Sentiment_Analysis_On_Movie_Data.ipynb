{
 "cells": [
  {
   "cell_type": "markdown",
   "metadata": {},
   "source": [
    "# Contents\n",
    "1. Building a feed forward NN to categorise reviews into positive and negative\n",
    "2. Understanding early stopping and why is it needed\n",
    "3. Dealing with Overfitting\n",
    "    1. Weight Regularization\n",
    "    2. Dropout Regularization"
   ]
  },
  {
   "cell_type": "code",
   "execution_count": 1,
   "metadata": {
    "collapsed": true
   },
   "outputs": [
    {
     "name": "stderr",
     "output_type": "stream",
     "text": [
      "C:\\Users\\Koko\\Anaconda3\\lib\\site-packages\\h5py\\__init__.py:34: FutureWarning: Conversion of the second argument of issubdtype from `float` to `np.floating` is deprecated. In future, it will be treated as `np.float64 == np.dtype(float).type`.\n",
      "  from ._conv import register_converters as _register_converters\n",
      "Using TensorFlow backend.\n"
     ]
    }
   ],
   "source": [
    "from keras.datasets import imdb"
   ]
  },
  {
   "cell_type": "code",
   "execution_count": 2,
   "metadata": {
    "collapsed": true
   },
   "outputs": [],
   "source": [
    "(train_data , train_labels) , (test_data , test_labels) = imdb.load_data(num_words=10000)"
   ]
  },
  {
   "cell_type": "code",
   "execution_count": 3,
   "metadata": {
    "collapsed": true
   },
   "outputs": [],
   "source": [
    "word_index = imdb.get_word_index()"
   ]
  },
  {
   "cell_type": "code",
   "execution_count": 4,
   "metadata": {
    "collapsed": true
   },
   "outputs": [],
   "source": [
    "import numpy as np\n",
    "def vectorize_sequences(sequences, dimension=10000):\n",
    "    results = np.zeros((len(sequences), dimension))\n",
    "    for i, sequence in enumerate(sequences):\n",
    "        results[i, sequence] = 1\n",
    "    return results\n",
    "x_train = vectorize_sequences(train_data)\n",
    "x_test = vectorize_sequences(test_data)"
   ]
  },
  {
   "cell_type": "code",
   "execution_count": 5,
   "metadata": {
    "collapsed": true
   },
   "outputs": [],
   "source": [
    "y_train = np.asarray(train_labels).astype('float32')\n",
    "y_test = np.asarray(test_labels).astype('float32')"
   ]
  },
  {
   "cell_type": "code",
   "execution_count": 6,
   "metadata": {},
   "outputs": [
    {
     "name": "stdout",
     "output_type": "stream",
     "text": [
      "Train on 20000 samples, validate on 5000 samples\n",
      "Epoch 1/20\n",
      "20000/20000 [==============================] - 4s 183us/step - loss: 0.4715 - acc: 0.8056 - val_loss: 0.3695 - val_acc: 0.8568\n",
      "Epoch 2/20\n",
      "20000/20000 [==============================] - 3s 152us/step - loss: 0.2722 - acc: 0.9049 - val_loss: 0.2942 - val_acc: 0.8862\n",
      "Epoch 3/20\n",
      "20000/20000 [==============================] - 3s 156us/step - loss: 0.2027 - acc: 0.9307 - val_loss: 0.2700 - val_acc: 0.8910\n",
      "Epoch 4/20\n",
      "20000/20000 [==============================] - 3s 158us/step - loss: 0.1671 - acc: 0.9415 - val_loss: 0.2799 - val_acc: 0.8900\n",
      "Epoch 5/20\n",
      "20000/20000 [==============================] - 3s 161us/step - loss: 0.1410 - acc: 0.9516 - val_loss: 0.2828 - val_acc: 0.8910\n",
      "Epoch 6/20\n",
      "20000/20000 [==============================] - 3s 164us/step - loss: 0.1194 - acc: 0.9593 - val_loss: 0.3079 - val_acc: 0.8870\n",
      "Epoch 7/20\n",
      "20000/20000 [==============================] - 3s 157us/step - loss: 0.1063 - acc: 0.9646 - val_loss: 0.3265 - val_acc: 0.8830\n",
      "Epoch 8/20\n",
      "20000/20000 [==============================] - 4s 191us/step - loss: 0.0861 - acc: 0.9728 - val_loss: 0.4042 - val_acc: 0.8672\n",
      "Epoch 9/20\n",
      "20000/20000 [==============================] - 4s 176us/step - loss: 0.0775 - acc: 0.9751 - val_loss: 0.4877 - val_acc: 0.8518\n",
      "Epoch 10/20\n",
      "20000/20000 [==============================] - 3s 158us/step - loss: 0.0690 - acc: 0.9788 - val_loss: 0.4151 - val_acc: 0.8734\n",
      "Epoch 11/20\n",
      "20000/20000 [==============================] - 3s 158us/step - loss: 0.0580 - acc: 0.9831 - val_loss: 0.4182 - val_acc: 0.8748\n",
      "Epoch 12/20\n",
      "20000/20000 [==============================] - 3s 155us/step - loss: 0.0499 - acc: 0.9850 - val_loss: 0.5216 - val_acc: 0.8606\n",
      "Epoch 13/20\n",
      "20000/20000 [==============================] - 3s 154us/step - loss: 0.0439 - acc: 0.9877 - val_loss: 0.5469 - val_acc: 0.8598\n",
      "Epoch 14/20\n",
      "20000/20000 [==============================] - 3s 153us/step - loss: 0.0405 - acc: 0.9879 - val_loss: 0.5080 - val_acc: 0.8734\n",
      "Epoch 15/20\n",
      "20000/20000 [==============================] - 3s 153us/step - loss: 0.0289 - acc: 0.9926 - val_loss: 0.5853 - val_acc: 0.8606\n",
      "Epoch 16/20\n",
      "20000/20000 [==============================] - 3s 159us/step - loss: 0.0292 - acc: 0.9922 - val_loss: 0.5734 - val_acc: 0.8688\n",
      "Epoch 17/20\n",
      "20000/20000 [==============================] - 3s 158us/step - loss: 0.0212 - acc: 0.9955 - val_loss: 0.6132 - val_acc: 0.8670\n",
      "Epoch 18/20\n",
      "20000/20000 [==============================] - 3s 165us/step - loss: 0.0188 - acc: 0.9960 - val_loss: 0.6512 - val_acc: 0.8662\n",
      "Epoch 19/20\n",
      "20000/20000 [==============================] - 3s 151us/step - loss: 0.0168 - acc: 0.9963 - val_loss: 0.6962 - val_acc: 0.8608\n",
      "Epoch 20/20\n",
      "20000/20000 [==============================] - 3s 150us/step - loss: 0.0150 - acc: 0.9964 - val_loss: 0.7069 - val_acc: 0.8660\n"
     ]
    }
   ],
   "source": [
    "from keras import models\n",
    "from keras import layers\n",
    "\n",
    "model = models.Sequential()\n",
    "model.add(layers.Dense(16 , activation = 'relu' , input_shape=(10000,)))\n",
    "model.add(layers.Dense(16 , activation='relu'))\n",
    "model.add(layers.Dense(1 , activation='sigmoid'))\n",
    "\n",
    "model.compile(optimizer='rmsprop',\n",
    "              loss = 'binary_crossentropy',\n",
    "              metrics = ['accuracy'])\n",
    "\n",
    "\n",
    "x_val = x_train[:5000]\n",
    "partial_x_train = x_train[5000:]\n",
    "y_val = y_train[:5000]\n",
    "partial_y_train = y_train[5000:]\n",
    "\n",
    "\n",
    "\n",
    "history = model.fit(partial_x_train,\n",
    "                    partial_y_train,\n",
    "                    epochs=20,\n",
    "                    batch_size=512,\n",
    "                    validation_data=(x_val, y_val))"
   ]
  },
  {
   "cell_type": "code",
   "execution_count": 7,
   "metadata": {},
   "outputs": [
    {
     "data": {
      "image/png": "[encoded data removed]",
      "text/plain": [
       "<matplotlib.figure.Figure at 0x1fe4ab12710>"
      ]
     },
     "metadata": {},
     "output_type": "display_data"
    }
   ],
   "source": [
    "import matplotlib.pyplot as plt\n",
    "history_dict = history.history\n",
    "loss_values = history_dict['loss']\n",
    "val_loss_values = history_dict['val_loss']\n",
    "epochs = range(1, len(history_dict['acc']) + 1)\n",
    "plt.plot(epochs, loss_values, 'go', label='Training loss')\n",
    "plt.plot(epochs, val_loss_values, 'b', label='Validation loss')\n",
    "plt.title('Training and validation loss')\n",
    "plt.xlabel('Epochs')\n",
    "plt.ylabel('Loss')\n",
    "plt.legend()\n",
    "plt.show()"
   ]
  },
  {
   "cell_type": "markdown",
   "metadata": {},
   "source": [
    "From the above plot , we can clearly see that the models starts overfitting after around epoch 4"
   ]
  },
  {
   "cell_type": "code",
   "execution_count": 8,
   "metadata": {},
   "outputs": [
    {
     "data": {
      "image/png": "[encoded data removed]",
      "text/plain": [
       "<matplotlib.figure.Figure at 0x1fe4ab122e8>"
      ]
     },
     "metadata": {},
     "output_type": "display_data"
    }
   ],
   "source": [
    "acc_values = history_dict['acc']\n",
    "val_acc_values = history_dict['val_acc']\n",
    "plt.plot(epochs, acc_values, 'bo', label='Training acc')\n",
    "plt.plot(epochs, val_acc_values, 'b', label='Validation acc')\n",
    "plt.title('Training and validation accuracy')\n",
    "plt.xlabel('Epochs')\n",
    "plt.ylabel('Loss')\n",
    "plt.legend()\n",
    "plt.show()"
   ]
  },
  {
   "cell_type": "markdown",
   "metadata": {},
   "source": [
    "Same pattern can be seen on the validation accuracy . Although the training accuracy keeps on increasing , the validation accuracy becomes non-increasing around epoch 4 and then continues to jump between increasing and decreasing\n",
    "\n",
    "# Early Stopping\n",
    "How about we stop the model when the improvement stops and use the model at that point as our final model.\n",
    "Let's train the network till epoch 4 only."
   ]
  },
  {
   "cell_type": "code",
   "execution_count": 10,
   "metadata": {},
   "outputs": [
    {
     "name": "stdout",
     "output_type": "stream",
     "text": [
      "Epoch 1/4\n",
      "25000/25000 [==============================] - 4s 145us/step - loss: 0.4355 - acc: 0.8288\n",
      "Epoch 2/4\n",
      "25000/25000 [==============================] - 3s 130us/step - loss: 0.2529 - acc: 0.9118\n",
      "Epoch 3/4\n",
      "25000/25000 [==============================] - 3s 128us/step - loss: 0.1964 - acc: 0.9282\n",
      "Epoch 4/4\n",
      "25000/25000 [==============================] - 3s 131us/step - loss: 0.1629 - acc: 0.9408\n"
     ]
    },
    {
     "data": {
      "text/plain": [
       "<keras.callbacks.History at 0x1fe3a5fe0b8>"
      ]
     },
     "execution_count": 10,
     "metadata": {},
     "output_type": "execute_result"
    }
   ],
   "source": [
    "model = models.Sequential()\n",
    "model.add(layers.Dense(16, activation='relu', input_shape=(10000,)))\n",
    "model.add(layers.Dense(16, activation='relu'))\n",
    "model.add(layers.Dense(1, activation='sigmoid'))\n",
    "model.compile(optimizer='rmsprop',\n",
    "loss='binary_crossentropy',\n",
    "metrics=['accuracy'])\n",
    "model.fit(x_train, \n",
    "          y_train, \n",
    "          epochs=4, \n",
    "          batch_size=512)"
   ]
  },
  {
   "cell_type": "code",
   "execution_count": 11,
   "metadata": {},
   "outputs": [
    {
     "name": "stdout",
     "output_type": "stream",
     "text": [
      "25000/25000 [==============================] - 4s 143us/step\n"
     ]
    },
    {
     "data": {
      "text/plain": [
       "[0.2952753042793274, 0.88288]"
      ]
     },
     "execution_count": 11,
     "metadata": {},
     "output_type": "execute_result"
    }
   ],
   "source": [
    "model.evaluate(x_test,y_test)"
   ]
  },
  {
   "cell_type": "markdown",
   "metadata": {
    "collapsed": true
   },
   "source": [
    "# Effect of Adding a Regularizer"
   ]
  },
  {
   "cell_type": "code",
   "execution_count": 17,
   "metadata": {},
   "outputs": [
    {
     "name": "stdout",
     "output_type": "stream",
     "text": [
      "Train on 20000 samples, validate on 5000 samples\n",
      "Epoch 1/50\n",
      "20000/20000 [==============================] - 4s 183us/step - loss: 0.4729 - acc: 0.8138 - val_loss: 0.3456 - val_acc: 0.8776\n",
      "Epoch 2/50\n",
      "20000/20000 [==============================] - 3s 153us/step - loss: 0.2768 - acc: 0.9063 - val_loss: 0.2953 - val_acc: 0.8852\n",
      "Epoch 3/50\n",
      "20000/20000 [==============================] - 3s 169us/step - loss: 0.2094 - acc: 0.9267 - val_loss: 0.2777 - val_acc: 0.8896\n",
      "Epoch 4/50\n",
      "20000/20000 [==============================] - 4s 177us/step - loss: 0.1707 - acc: 0.9410 - val_loss: 0.2926 - val_acc: 0.8850\n",
      "Epoch 5/50\n",
      "20000/20000 [==============================] - 3s 172us/step - loss: 0.1440 - acc: 0.9512 - val_loss: 0.2897 - val_acc: 0.8872\n",
      "Epoch 6/50\n",
      "20000/20000 [==============================] - 3s 148us/step - loss: 0.1234 - acc: 0.9574 - val_loss: 0.3301 - val_acc: 0.8776\n",
      "Epoch 7/50\n",
      "20000/20000 [==============================] - 3s 153us/step - loss: 0.1038 - acc: 0.9651 - val_loss: 0.3156 - val_acc: 0.8888\n",
      "Epoch 8/50\n",
      "20000/20000 [==============================] - 3s 151us/step - loss: 0.0895 - acc: 0.9709 - val_loss: 0.3362 - val_acc: 0.8848\n",
      "Epoch 9/50\n",
      "20000/20000 [==============================] - 3s 150us/step - loss: 0.0789 - acc: 0.9751 - val_loss: 0.3800 - val_acc: 0.8794\n",
      "Epoch 10/50\n",
      "20000/20000 [==============================] - 3s 154us/step - loss: 0.0648 - acc: 0.9808 - val_loss: 0.3926 - val_acc: 0.8788\n",
      "Epoch 11/50\n",
      "20000/20000 [==============================] - 3s 159us/step - loss: 0.0555 - acc: 0.9838 - val_loss: 0.4158 - val_acc: 0.8788\n",
      "Epoch 12/50\n",
      "20000/20000 [==============================] - 3s 145us/step - loss: 0.0469 - acc: 0.9873 - val_loss: 0.4471 - val_acc: 0.8760\n",
      "Epoch 13/50\n",
      "20000/20000 [==============================] - 3s 148us/step - loss: 0.0408 - acc: 0.9884 - val_loss: 0.5308 - val_acc: 0.8630\n",
      "Epoch 14/50\n",
      "20000/20000 [==============================] - 3s 146us/step - loss: 0.0325 - acc: 0.9920 - val_loss: 0.5374 - val_acc: 0.8654\n",
      "Epoch 15/50\n",
      "20000/20000 [==============================] - 3s 146us/step - loss: 0.0269 - acc: 0.9940 - val_loss: 0.5389 - val_acc: 0.8690\n",
      "Epoch 16/50\n",
      "20000/20000 [==============================] - 3s 146us/step - loss: 0.0221 - acc: 0.9956 - val_loss: 0.6041 - val_acc: 0.8668\n",
      "Epoch 17/50\n",
      "20000/20000 [==============================] - 3s 146us/step - loss: 0.0187 - acc: 0.9961 - val_loss: 0.6141 - val_acc: 0.8670\n",
      "Epoch 18/50\n",
      "20000/20000 [==============================] - 3s 146us/step - loss: 0.0130 - acc: 0.9978 - val_loss: 0.6497 - val_acc: 0.8656\n",
      "Epoch 19/50\n",
      "20000/20000 [==============================] - 3s 145us/step - loss: 0.0107 - acc: 0.9985 - val_loss: 0.7233 - val_acc: 0.8634\n",
      "Epoch 20/50\n",
      "20000/20000 [==============================] - 3s 146us/step - loss: 0.0100 - acc: 0.9982 - val_loss: 0.7263 - val_acc: 0.8646\n",
      "Epoch 21/50\n",
      "20000/20000 [==============================] - 3s 146us/step - loss: 0.0091 - acc: 0.9979 - val_loss: 0.7571 - val_acc: 0.8654\n",
      "Epoch 22/50\n",
      "20000/20000 [==============================] - 3s 145us/step - loss: 0.0039 - acc: 0.9998 - val_loss: 0.7897 - val_acc: 0.8638\n",
      "Epoch 23/50\n",
      "20000/20000 [==============================] - 3s 146us/step - loss: 0.0057 - acc: 0.9990 - val_loss: 0.8323 - val_acc: 0.8646\n",
      "Epoch 24/50\n",
      "20000/20000 [==============================] - 3s 146us/step - loss: 0.0033 - acc: 0.9996 - val_loss: 0.8838 - val_acc: 0.8604\n",
      "Epoch 25/50\n",
      "20000/20000 [==============================] - 3s 146us/step - loss: 0.0024 - acc: 0.9997 - val_loss: 0.9331 - val_acc: 0.8584\n",
      "Epoch 26/50\n",
      "20000/20000 [==============================] - 3s 145us/step - loss: 0.0015 - acc: 1.0000 - val_loss: 0.9162 - val_acc: 0.8622\n",
      "Epoch 27/50\n",
      "20000/20000 [==============================] - 3s 145us/step - loss: 0.0040 - acc: 0.9986 - val_loss: 0.9395 - val_acc: 0.8640\n",
      "Epoch 28/50\n",
      "20000/20000 [==============================] - 3s 145us/step - loss: 7.2659e-04 - acc: 1.0000 - val_loss: 0.9587 - val_acc: 0.8632\n",
      "Epoch 29/50\n",
      "20000/20000 [==============================] - 3s 146us/step - loss: 0.0036 - acc: 0.9988 - val_loss: 0.9894 - val_acc: 0.8630\n",
      "Epoch 30/50\n",
      "20000/20000 [==============================] - 3s 145us/step - loss: 4.4202e-04 - acc: 1.0000 - val_loss: 1.0040 - val_acc: 0.8630\n",
      "Epoch 31/50\n",
      "20000/20000 [==============================] - 3s 147us/step - loss: 0.0034 - acc: 0.9988 - val_loss: 1.0328 - val_acc: 0.8632\n",
      "Epoch 32/50\n",
      "20000/20000 [==============================] - 3s 145us/step - loss: 2.9287e-04 - acc: 1.0000 - val_loss: 1.0469 - val_acc: 0.8628\n",
      "Epoch 33/50\n",
      "20000/20000 [==============================] - 3s 146us/step - loss: 0.0032 - acc: 0.9991 - val_loss: 1.1017 - val_acc: 0.8628\n",
      "Epoch 34/50\n",
      "20000/20000 [==============================] - 3s 145us/step - loss: 1.9451e-04 - acc: 1.0000 - val_loss: 1.0902 - val_acc: 0.8628\n",
      "Epoch 35/50\n",
      "20000/20000 [==============================] - 3s 146us/step - loss: 1.5372e-04 - acc: 1.0000 - val_loss: 1.1146 - val_acc: 0.8624\n",
      "Epoch 36/50\n",
      "20000/20000 [==============================] - 3s 145us/step - loss: 0.0013 - acc: 0.9996 - val_loss: 1.1492 - val_acc: 0.8626\n",
      "Epoch 37/50\n",
      "20000/20000 [==============================] - 3s 147us/step - loss: 8.7713e-05 - acc: 1.0000 - val_loss: 1.1649 - val_acc: 0.8604\n",
      "Epoch 38/50\n",
      "20000/20000 [==============================] - 3s 147us/step - loss: 0.0038 - acc: 0.9991 - val_loss: 1.2114 - val_acc: 0.8562\n",
      "Epoch 39/50\n",
      "20000/20000 [==============================] - 3s 146us/step - loss: 1.2876e-04 - acc: 1.0000 - val_loss: 1.1989 - val_acc: 0.8610\n",
      "Epoch 40/50\n",
      "20000/20000 [==============================] - 3s 147us/step - loss: 5.2662e-05 - acc: 1.0000 - val_loss: 1.2115 - val_acc: 0.8602\n",
      "Epoch 41/50\n",
      "20000/20000 [==============================] - 3s 145us/step - loss: 4.8567e-05 - acc: 1.0000 - val_loss: 1.2452 - val_acc: 0.8588\n",
      "Epoch 42/50\n",
      "20000/20000 [==============================] - 3s 146us/step - loss: 0.0022 - acc: 0.9994 - val_loss: 1.2713 - val_acc: 0.8600\n",
      "Epoch 43/50\n",
      "20000/20000 [==============================] - 3s 146us/step - loss: 3.6361e-05 - acc: 1.0000 - val_loss: 1.2812 - val_acc: 0.8594\n",
      "Epoch 44/50\n",
      "20000/20000 [==============================] - 3s 146us/step - loss: 2.5699e-05 - acc: 1.0000 - val_loss: 1.2823 - val_acc: 0.8600\n",
      "Epoch 45/50\n",
      "20000/20000 [==============================] - 3s 145us/step - loss: 4.5967e-04 - acc: 0.9999 - val_loss: 1.3113 - val_acc: 0.8616\n",
      "Epoch 46/50\n",
      "20000/20000 [==============================] - 3s 146us/step - loss: 1.5240e-05 - acc: 1.0000 - val_loss: 1.3114 - val_acc: 0.8608\n",
      "Epoch 47/50\n",
      "20000/20000 [==============================] - 3s 147us/step - loss: 1.2449e-05 - acc: 1.0000 - val_loss: 1.3192 - val_acc: 0.8600\n",
      "Epoch 48/50\n",
      "20000/20000 [==============================] - 3s 146us/step - loss: 0.0024 - acc: 0.9994 - val_loss: 1.3411 - val_acc: 0.8580\n",
      "Epoch 49/50\n",
      "20000/20000 [==============================] - 3s 146us/step - loss: 1.1279e-05 - acc: 1.0000 - val_loss: 1.3419 - val_acc: 0.8602\n",
      "Epoch 50/50\n",
      "20000/20000 [==============================] - 3s 146us/step - loss: 7.5007e-06 - acc: 1.0000 - val_loss: 1.3484 - val_acc: 0.8610\n"
     ]
    }
   ],
   "source": [
    "from keras import models\n",
    "from keras import layers\n",
    "from keras import regularizers\n",
    "\n",
    "model = models.Sequential()\n",
    "model.add(layers.Dense(16 , activation = 'relu' , input_shape=(10000,)))\n",
    "model.add(layers.Dense(16 , activation='relu'))\n",
    "model.add(layers.Dense(1 , activation='sigmoid'))\n",
    "\n",
    "model.compile(optimizer='rmsprop',\n",
    "              loss = 'binary_crossentropy',\n",
    "              metrics = ['accuracy'])\n",
    "\n",
    "\n",
    "regularized_model = models.Sequential()\n",
    "regularized_model.add(layers.Dense(16 , kernel_regularizer = regularizers.l2(0.001) ,activation = 'relu' , input_shape=(10000,)))\n",
    "regularized_model.add(layers.Dropout(0.5))\n",
    "regularized_model.add(layers.Dense(16 , kernel_regularizer = regularizers.l2(0.001),activation='relu'))\n",
    "regularized_model.add(layers.Dropout(0.5))\n",
    "regularized_model.add(layers.Dense(1 , activation='sigmoid'))\n",
    "\n",
    "\n",
    "\n",
    "\n",
    "x_val = x_train[:5000]\n",
    "partial_x_train = x_train[5000:]\n",
    "y_val = y_train[:5000]\n",
    "partial_y_train = y_train[5000:]\n",
    "\n",
    "\n",
    "\n",
    "history = model.fit(partial_x_train,\n",
    "                    partial_y_train,\n",
    "                    epochs=50,\n",
    "                    batch_size=512,\n",
    "                    validation_data=(x_val, y_val))"
   ]
  },
  {
   "cell_type": "code",
   "execution_count": 18,
   "metadata": {},
   "outputs": [
    {
     "name": "stdout",
     "output_type": "stream",
     "text": [
      "Train on 20000 samples, validate on 5000 samples\n",
      "Epoch 1/50\n",
      "20000/20000 [==============================] - 4s 185us/step - loss: 0.6540 - acc: 0.6445 - val_loss: 0.5346 - val_acc: 0.8158\n",
      "Epoch 2/50\n",
      "20000/20000 [==============================] - 3s 153us/step - loss: 0.5211 - acc: 0.7822 - val_loss: 0.4098 - val_acc: 0.8678\n",
      "Epoch 3/50\n",
      "20000/20000 [==============================] - 3s 152us/step - loss: 0.4423 - acc: 0.8401 - val_loss: 0.3632 - val_acc: 0.8826\n",
      "Epoch 4/50\n",
      "20000/20000 [==============================] - 3s 152us/step - loss: 0.3892 - acc: 0.8740 - val_loss: 0.3612 - val_acc: 0.8814\n",
      "Epoch 5/50\n",
      "20000/20000 [==============================] - 3s 152us/step - loss: 0.3522 - acc: 0.8937 - val_loss: 0.3306 - val_acc: 0.8878\n",
      "Epoch 6/50\n",
      "20000/20000 [==============================] - 3s 155us/step - loss: 0.3274 - acc: 0.9058 - val_loss: 0.3276 - val_acc: 0.8886\n",
      "Epoch 7/50\n",
      "20000/20000 [==============================] - 3s 152us/step - loss: 0.3061 - acc: 0.9127 - val_loss: 0.3478 - val_acc: 0.8866\n",
      "Epoch 8/50\n",
      "20000/20000 [==============================] - 3s 153us/step - loss: 0.2871 - acc: 0.9239 - val_loss: 0.3546 - val_acc: 0.8866\n",
      "Epoch 9/50\n",
      "20000/20000 [==============================] - 3s 153us/step - loss: 0.2742 - acc: 0.9289 - val_loss: 0.3541 - val_acc: 0.8878\n",
      "Epoch 10/50\n",
      "20000/20000 [==============================] - 3s 153us/step - loss: 0.2663 - acc: 0.9304 - val_loss: 0.3581 - val_acc: 0.8902\n",
      "Epoch 11/50\n",
      "20000/20000 [==============================] - 3s 153us/step - loss: 0.2593 - acc: 0.9337 - val_loss: 0.3743 - val_acc: 0.8884\n",
      "Epoch 12/50\n",
      "20000/20000 [==============================] - 3s 154us/step - loss: 0.2514 - acc: 0.9353 - val_loss: 0.3650 - val_acc: 0.8860\n",
      "Epoch 13/50\n",
      "20000/20000 [==============================] - 3s 153us/step - loss: 0.2414 - acc: 0.9399 - val_loss: 0.3750 - val_acc: 0.8854\n",
      "Epoch 14/50\n",
      "20000/20000 [==============================] - 3s 153us/step - loss: 0.2363 - acc: 0.9416 - val_loss: 0.3940 - val_acc: 0.8848\n",
      "Epoch 15/50\n",
      "20000/20000 [==============================] - 3s 153us/step - loss: 0.2398 - acc: 0.9383 - val_loss: 0.3979 - val_acc: 0.8866\n",
      "Epoch 16/50\n",
      "20000/20000 [==============================] - 3s 153us/step - loss: 0.2291 - acc: 0.9425 - val_loss: 0.4034 - val_acc: 0.8862\n",
      "Epoch 17/50\n",
      "20000/20000 [==============================] - 3s 153us/step - loss: 0.2295 - acc: 0.9438 - val_loss: 0.4170 - val_acc: 0.8798\n",
      "Epoch 18/50\n",
      "20000/20000 [==============================] - 3s 154us/step - loss: 0.2294 - acc: 0.9431 - val_loss: 0.4148 - val_acc: 0.8772\n",
      "Epoch 19/50\n",
      "20000/20000 [==============================] - 3s 154us/step - loss: 0.2266 - acc: 0.9438 - val_loss: 0.4220 - val_acc: 0.8844\n",
      "Epoch 20/50\n",
      "20000/20000 [==============================] - 3s 153us/step - loss: 0.2210 - acc: 0.9449 - val_loss: 0.4220 - val_acc: 0.8844\n",
      "Epoch 21/50\n",
      "20000/20000 [==============================] - 3s 162us/step - loss: 0.2226 - acc: 0.9444 - val_loss: 0.4335 - val_acc: 0.8826\n",
      "Epoch 22/50\n",
      "20000/20000 [==============================] - 3s 160us/step - loss: 0.2223 - acc: 0.9466 - val_loss: 0.4103 - val_acc: 0.8846\n",
      "Epoch 23/50\n",
      "20000/20000 [==============================] - 3s 153us/step - loss: 0.2216 - acc: 0.9489 - val_loss: 0.4308 - val_acc: 0.8900\n",
      "Epoch 24/50\n",
      "20000/20000 [==============================] - 3s 153us/step - loss: 0.2210 - acc: 0.9458 - val_loss: 0.4295 - val_acc: 0.8832\n",
      "Epoch 25/50\n",
      "20000/20000 [==============================] - 3s 155us/step - loss: 0.2199 - acc: 0.9468 - val_loss: 0.4397 - val_acc: 0.8806\n",
      "Epoch 26/50\n",
      "20000/20000 [==============================] - 3s 153us/step - loss: 0.2183 - acc: 0.9488 - val_loss: 0.4472 - val_acc: 0.8816\n",
      "Epoch 27/50\n",
      "20000/20000 [==============================] - 3s 155us/step - loss: 0.2149 - acc: 0.9484 - val_loss: 0.4527 - val_acc: 0.8814\n",
      "Epoch 28/50\n",
      "20000/20000 [==============================] - 3s 154us/step - loss: 0.2117 - acc: 0.9498 - val_loss: 0.4629 - val_acc: 0.8770\n",
      "Epoch 29/50\n",
      "20000/20000 [==============================] - 3s 161us/step - loss: 0.2087 - acc: 0.9519 - val_loss: 0.4423 - val_acc: 0.8800\n",
      "Epoch 30/50\n",
      "20000/20000 [==============================] - 3s 154us/step - loss: 0.2151 - acc: 0.9473 - val_loss: 0.4559 - val_acc: 0.8812\n",
      "Epoch 31/50\n",
      "20000/20000 [==============================] - 3s 163us/step - loss: 0.2098 - acc: 0.9516 - val_loss: 0.4860 - val_acc: 0.8742\n",
      "Epoch 32/50\n",
      "20000/20000 [==============================] - 3s 168us/step - loss: 0.2138 - acc: 0.9480 - val_loss: 0.4412 - val_acc: 0.8782\n",
      "Epoch 33/50\n",
      "20000/20000 [==============================] - 3s 156us/step - loss: 0.2115 - acc: 0.9506 - val_loss: 0.4604 - val_acc: 0.8776\n",
      "Epoch 34/50\n",
      "20000/20000 [==============================] - 3s 151us/step - loss: 0.2079 - acc: 0.9529 - val_loss: 0.4805 - val_acc: 0.8810\n",
      "Epoch 35/50\n",
      "20000/20000 [==============================] - 3s 163us/step - loss: 0.2122 - acc: 0.9494 - val_loss: 0.4884 - val_acc: 0.8802\n",
      "Epoch 36/50\n",
      "20000/20000 [==============================] - 3s 151us/step - loss: 0.2155 - acc: 0.9483 - val_loss: 0.4797 - val_acc: 0.8794\n",
      "Epoch 37/50\n",
      "20000/20000 [==============================] - 3s 155us/step - loss: 0.2135 - acc: 0.9482 - val_loss: 0.4512 - val_acc: 0.8770\n",
      "Epoch 38/50\n",
      "20000/20000 [==============================] - 3s 159us/step - loss: 0.2078 - acc: 0.9519 - val_loss: 0.4783 - val_acc: 0.8838\n",
      "Epoch 39/50\n",
      "20000/20000 [==============================] - 3s 153us/step - loss: 0.2110 - acc: 0.9484 - val_loss: 0.4689 - val_acc: 0.8748\n",
      "Epoch 40/50\n",
      "20000/20000 [==============================] - 3s 152us/step - loss: 0.2064 - acc: 0.9513 - val_loss: 0.4933 - val_acc: 0.8784\n",
      "Epoch 41/50\n",
      "20000/20000 [==============================] - 3s 152us/step - loss: 0.2070 - acc: 0.9498 - val_loss: 0.4906 - val_acc: 0.8812\n",
      "Epoch 42/50\n",
      "20000/20000 [==============================] - 3s 151us/step - loss: 0.2092 - acc: 0.9484 - val_loss: 0.4922 - val_acc: 0.8750\n",
      "Epoch 43/50\n",
      "20000/20000 [==============================] - 3s 151us/step - loss: 0.2070 - acc: 0.9512 - val_loss: 0.4977 - val_acc: 0.8778\n",
      "Epoch 44/50\n",
      "20000/20000 [==============================] - 3s 154us/step - loss: 0.2057 - acc: 0.9513 - val_loss: 0.5025 - val_acc: 0.8756\n",
      "Epoch 45/50\n",
      "20000/20000 [==============================] - 3s 164us/step - loss: 0.2102 - acc: 0.9496 - val_loss: 0.4845 - val_acc: 0.8792\n",
      "Epoch 46/50\n",
      "20000/20000 [==============================] - 3s 171us/step - loss: 0.2080 - acc: 0.9489 - val_loss: 0.4942 - val_acc: 0.8766\n",
      "Epoch 47/50\n",
      "20000/20000 [==============================] - 3s 168us/step - loss: 0.2139 - acc: 0.9502 - val_loss: 0.4775 - val_acc: 0.8760\n",
      "Epoch 48/50\n",
      "20000/20000 [==============================] - 3s 167us/step - loss: 0.2048 - acc: 0.9513 - val_loss: 0.4752 - val_acc: 0.8798\n",
      "Epoch 49/50\n",
      "20000/20000 [==============================] - 3s 169us/step - loss: 0.2095 - acc: 0.9488 - val_loss: 0.5144 - val_acc: 0.8700\n",
      "Epoch 50/50\n",
      "20000/20000 [==============================] - 3s 158us/step - loss: 0.2056 - acc: 0.9484 - val_loss: 0.5182 - val_acc: 0.8782\n"
     ]
    }
   ],
   "source": [
    "regularized_model.compile(optimizer='rmsprop',\n",
    "              loss = 'binary_crossentropy',\n",
    "              metrics = ['accuracy'])\n",
    "\n",
    "history_regularized = regularized_model.fit(partial_x_train,\n",
    "                    partial_y_train,\n",
    "                    epochs=50,\n",
    "                    batch_size=512,\n",
    "                    validation_data=(x_val, y_val))"
   ]
  },
  {
   "cell_type": "code",
   "execution_count": 19,
   "metadata": {},
   "outputs": [
    {
     "data": {
      "image/png": "[encoded data removed]",
      "text/plain": [
       "<matplotlib.figure.Figure at 0x14635f3c278>"
      ]
     },
     "metadata": {},
     "output_type": "display_data"
    }
   ],
   "source": [
    "import matplotlib.pyplot as plt\n",
    "history_dict = history.history\n",
    "history_dict_regularized = history_regularized.history\n",
    "loss_values = history_dict['val_loss']\n",
    "loss_values_regularized = history_dict_regularized['val_loss']\n",
    "epochs = range(1, len(history_dict['acc']) + 1)\n",
    "plt.plot(epochs, loss_values, 'go', label='Validation loss of Simple Model')\n",
    "plt.plot(epochs, loss_values_regularized, 'b', label='Validation loss of Weight-Dropout Regularized Model')\n",
    "plt.title('Regularized vs Unregularized Validation Losses')\n",
    "plt.xlabel('Epochs')\n",
    "plt.ylabel('Loss')\n",
    "plt.legend()\n",
    "plt.show()"
   ]
  },
  {
   "cell_type": "code",
   "execution_count": null,
   "metadata": {
    "collapsed": true
   },
   "outputs": [],
   "source": []
  }
 ],
 "metadata": {
  "kernelspec": {
   "display_name": "Python 3",
   "language": "python",
   "name": "python3"
  },
  "language_info": {
   "codemirror_mode": {
    "name": "ipython",
    "version": 3
   },
   "file_extension": ".py",
   "mimetype": "text/x-python",
   "name": "python",
   "nbconvert_exporter": "python",
   "pygments_lexer": "ipython3",
   "version": "3.6.2"
  }
 },
 "nbformat": 4,
 "nbformat_minor": 2
}
